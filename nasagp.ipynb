{
  "nbformat": 4,
  "nbformat_minor": 0,
  "metadata": {
    "colab": {
      "provenance": [],
      "include_colab_link": true
    },
    "kernelspec": {
      "name": "python3",
      "display_name": "Python 3"
    },
    "language_info": {
      "name": "python"
    }
  },
  "cells": [
    {
      "cell_type": "markdown",
      "metadata": {
        "id": "view-in-github",
        "colab_type": "text"
      },
      "source": [
        "<a href=\"https://colab.research.google.com/github/KhusheyT/LATEXCS2002/blob/main/nasagp.ipynb\" target=\"_parent\"><img src=\"https://colab.research.google.com/assets/colab-badge.svg\" alt=\"Open In Colab\"/></a>"
      ]
    },
    {
      "cell_type": "code",
      "execution_count": 45,
      "metadata": {
        "id": "FCE_PNHyytZO"
      },
      "outputs": [],
      "source": [
        "# import libraries\n",
        "import requests # https\n",
        "import pandas as pd #dataframe\n",
        "import numpy as np\n",
        "import math\n",
        "\n",
        "#geopandas\n",
        "import geopandas as gpd\n",
        "from shapely.geometry import Point, Polygon\n",
        "import matplotlib.pyplot as plt # matplotlib"
      ]
    },
    {
      "cell_type": "code",
      "source": [
        "# Globals:\n",
        "MAP_KEY = \"c4f9c87a128b458b6a69d96cfc2e3e60\"\n",
        "countries = []"
      ],
      "metadata": {
        "id": "F96e8LPTNVmX"
      },
      "execution_count": 46,
      "outputs": []
    },
    {
      "cell_type": "code",
      "source": [
        "# get fire data from NASA\n",
        "def fetch_fire_data():\n",
        "    url=\"https://firms.modaps.eosdis.nasa.gov/api/area/csv/c4f9c87a128b458b6a69d96cfc2e3e60/VIIRS_SNPP_NRT/world/1/2023-10-08\"\n",
        "    response = requests.get(url)\n",
        "\n",
        "    if response.status_code == 200:\n",
        "        data = pd.read_csv(url)\n",
        "        print(data.head())\n",
        "        return data\n",
        "    else:\n",
        "        print(\"Failed to fetch data.\")\n",
        "        return None"
      ],
      "metadata": {
        "id": "7nBJBpVoy8zU"
      },
      "execution_count": 47,
      "outputs": []
    },
    {
      "cell_type": "code",
      "source": [
        "def calculate_damaged_area_coordinates(latitude, longitude):\n",
        "    # Create a Polygon object from latitudes and longitudes\n",
        "    damaged_area_polygon = Polygon(zip(longitude, latitude))\n",
        "\n",
        "    # Create a GeoDataFrame\n",
        "    gdf = gpd.GeoDataFrame(geometry=[damaged_area_polygon])\n",
        "    # Set the Coordinate Reference System (CRS) to WGS 84\n",
        "    gdf.crs = \"EPSG:4326\"\n",
        "\n",
        "    # Calculate the damaged area in square degrees\n",
        "    damaged_area_square_degrees = gdf.geometry.area.values[0]\n",
        "\n",
        "    return damaged_area_square_degrees\n",
        "\n"
      ],
      "metadata": {
        "id": "EAbTqlewzb0-"
      },
      "execution_count": 48,
      "outputs": []
    },
    {
      "cell_type": "code",
      "source": [
        "# visulaize fire data on map\n",
        "def visualize_fire_data_on_map(data):\n",
        "    gdf = gpd.GeoDataFrame(data,\n",
        "                           geometry=gpd.points_from_xy(data.longitude, data.latitude))\n",
        "\n",
        "    world = gpd.read_file(gpd.datasets.get_path('naturalearth_lowres'))\n",
        "\n",
        "    fig, ax = plt.subplots(figsize=(10, 6))\n",
        "    world.boundary.plot(ax=ax, linewidth=1, color='gray')\n",
        "    gdf.plot(ax=ax, markersize=5, color='red', label='Fire Incidents')\n",
        "\n",
        "    plt.title('Fire Incidents on Map')\n",
        "    plt.legend()\n",
        "    plt.show()\n"
      ],
      "metadata": {
        "id": "bAcb8WZ0zrgZ"
      },
      "execution_count": 49,
      "outputs": []
    },
    {
      "cell_type": "code",
      "source": [
        "def graph_datas(name, key=MAP_KEY):\n",
        "    try:\n",
        "        dates = ['2023-01-01', '2023-01-02', '2023-01-03', '2023-01-04', '2023-01-05']\n",
        "        dfc = []\n",
        "        for date in dates:\n",
        "            url = f\"https://firms.modaps.eosdis.nasa.gov/api/country/csv/{key}/VIIRS_SNPP_NRT/{name}/1/{date}\"\n",
        "            dfc.append(pd.read_csv(url))\n",
        "\n",
        "        damage_areas = []\n",
        "\n",
        "        for df in dfc:\n",
        "            area = calculate_damaged_area_coordinates(df['latitude'], df['longitude'])\n",
        "            damage_areas.append(area)\n",
        "\n",
        "        fig,ax1 = plt.subplots()\n",
        "\n",
        "        fire_incidents = [5,7,6,8,5]\n",
        "\n",
        "        ax1.set_xlabel('Date')\n",
        "        ax1.set_ylabel('Damage Area (sq km)', color='tab:blue')\n",
        "        ax1.plot(dates, damage_areas, color='tab:blue', marker='o', label='Damage Area')\n",
        "        ax1.tick_params(axis='y', labelcolor='tab:blue')\n",
        "        ax1.set_xticklabels(dates, rotation=45)  # Rotate x-axis labels for readability\n",
        "\n",
        "        # Create a second y-axis for fire incidents\n",
        "\n",
        "        # Add legends for both datasets\n",
        "        lines, labels = ax1.get_legend_handles_labels()\n",
        "        ax1.legend(lines, labels , loc='upper right')\n",
        "\n",
        "        # Set a title and display the plot\n",
        "        plt.title('Damage Area over Time')\n",
        "        plt.tight_layout()\n",
        "        plt.show()\n",
        "    except:\n",
        "        pass"
      ],
      "metadata": {
        "id": "W6bhEC8QA9aE"
      },
      "execution_count": 50,
      "outputs": []
    },
    {
      "cell_type": "code",
      "source": [
        "# Function to preprocess data\n",
        "def preprocess_data(data):\n",
        "    # relevant_columns = ['latitude', 'longitude', 'confidence', 'bright_ti4', 'acq_date']\n",
        "    relevant_columns = ['latitude', 'longitude', 'bright_ti4','frp', 'acq_date']\n",
        "    data = data[relevant_columns]\n",
        "    data['acq_date'] = pd.to_datetime(data['acq_date'])\n",
        "    data['is_fire'] = 1  # Simulated: All data points are treated as fire incidents\n",
        "    return data"
      ],
      "metadata": {
        "id": "Ec6HFxnzF7ac"
      },
      "execution_count": 51,
      "outputs": []
    },
    {
      "cell_type": "code",
      "source": [
        "# Main function\n",
        "if __name__ == '__main__':\n",
        "    # Simulate fetching NASA's fire data\n",
        "    # fire_data = fetch_fire_data()\n",
        "    # reads countries\n",
        "    cname = \"IND\"\n",
        "    countries = pd.read_json('https://firms.modaps.eosdis.nasa.gov/api/countries/?format=json')\n",
        "    print(countries['geom'])\n",
        "\n",
        "    countries = ['IND', 'ARG', 'USA']\n",
        "    for c in countries:\n",
        "        graph_datas(c)\n",
        "\n",
        "    fire_data = fetch_fire_data()\n",
        "\n",
        "    if fire_data is not None:\n",
        "        processed_data = preprocess_data(fire_data)\n",
        "\n",
        "    #     # if processed_data['frp'][0] > 0.8:\n",
        "    #     #     sender_email = \"adi004gupta@gmail.com\"\n",
        "    #     #     sender_password = \"helloadi77\"\n",
        "    #     #     receiver_email = \"khushey7thakur@gmail.com\n",
        "\n",
        "    #         # send_email_alert(sender_email, sender_password, receiver_email)\n",
        "\n",
        "        # Visualize fire data on a map\n",
        "        visualize_fire_data_on_map(processed_data)"
      ],
      "metadata": {
        "colab": {
          "base_uri": "https://localhost:8080/",
          "height": 1000
        },
        "id": "_zDZDLavz0vC",
        "outputId": "22dfe8ae-2dfb-43a7-df21-3f881db32e3b"
      },
      "execution_count": 53,
      "outputs": [
        {
          "output_type": "stream",
          "name": "stdout",
          "text": [
            "0      BOX(-70.0624080069999 12.417669989,-69.8768204...\n",
            "1      BOX(60.4867777910001 29.3866053260001,74.89230...\n",
            "2      BOX(11.6693941430001 -18.0314047239998,24.0617...\n",
            "3      BOX(-63.4288223949999 18.1690941430001,-62.972...\n",
            "4      BOX(19.5131942070001 59.9044863950001,21.09669...\n",
            "                             ...                        \n",
            "239    BOX(-172.782582161 -14.052829685,-171.43769283...\n",
            "240    BOX(42.5457462900001 12.1114436720001,54.54029...\n",
            "241    BOX(16.4699813160001 -46.965752863,37.97779381...\n",
            "242    BOX(21.9798775630001 -18.0692318719999,33.6742...\n",
            "243    BOX(25.219369751 -22.3973397829999,33.04276818...\n",
            "Name: geom, Length: 244, dtype: object\n"
          ]
        },
        {
          "output_type": "stream",
          "name": "stderr",
          "text": [
            "<ipython-input-48-1fb29bcb59b4>:11: UserWarning: Geometry is in a geographic CRS. Results from 'area' are likely incorrect. Use 'GeoSeries.to_crs()' to re-project geometries to a projected CRS before this operation.\n",
            "\n",
            "  damaged_area_square_degrees = gdf.geometry.area.values[0]\n",
            "<ipython-input-48-1fb29bcb59b4>:11: UserWarning: Geometry is in a geographic CRS. Results from 'area' are likely incorrect. Use 'GeoSeries.to_crs()' to re-project geometries to a projected CRS before this operation.\n",
            "\n",
            "  damaged_area_square_degrees = gdf.geometry.area.values[0]\n",
            "<ipython-input-48-1fb29bcb59b4>:11: UserWarning: Geometry is in a geographic CRS. Results from 'area' are likely incorrect. Use 'GeoSeries.to_crs()' to re-project geometries to a projected CRS before this operation.\n",
            "\n",
            "  damaged_area_square_degrees = gdf.geometry.area.values[0]\n",
            "<ipython-input-48-1fb29bcb59b4>:11: UserWarning: Geometry is in a geographic CRS. Results from 'area' are likely incorrect. Use 'GeoSeries.to_crs()' to re-project geometries to a projected CRS before this operation.\n",
            "\n",
            "  damaged_area_square_degrees = gdf.geometry.area.values[0]\n",
            "<ipython-input-48-1fb29bcb59b4>:11: UserWarning: Geometry is in a geographic CRS. Results from 'area' are likely incorrect. Use 'GeoSeries.to_crs()' to re-project geometries to a projected CRS before this operation.\n",
            "\n",
            "  damaged_area_square_degrees = gdf.geometry.area.values[0]\n",
            "<ipython-input-50-f0c7e7fbb6d9>:23: UserWarning: FixedFormatter should only be used together with FixedLocator\n",
            "  ax1.set_xticklabels(dates, rotation=45)  # Rotate x-axis labels for readability\n"
          ]
        },
        {
          "output_type": "display_data",
          "data": {
            "text/plain": [
              "<Figure size 640x480 with 1 Axes>"
            ],
            "image/png": "[encoded data removed]"
          },
          "metadata": {}
        },
        {
          "output_type": "stream",
          "name": "stderr",
          "text": [
            "<ipython-input-48-1fb29bcb59b4>:11: UserWarning: Geometry is in a geographic CRS. Results from 'area' are likely incorrect. Use 'GeoSeries.to_crs()' to re-project geometries to a projected CRS before this operation.\n",
            "\n",
            "  damaged_area_square_degrees = gdf.geometry.area.values[0]\n",
            "<ipython-input-48-1fb29bcb59b4>:11: UserWarning: Geometry is in a geographic CRS. Results from 'area' are likely incorrect. Use 'GeoSeries.to_crs()' to re-project geometries to a projected CRS before this operation.\n",
            "\n",
            "  damaged_area_square_degrees = gdf.geometry.area.values[0]\n",
            "<ipython-input-48-1fb29bcb59b4>:11: UserWarning: Geometry is in a geographic CRS. Results from 'area' are likely incorrect. Use 'GeoSeries.to_crs()' to re-project geometries to a projected CRS before this operation.\n",
            "\n",
            "  damaged_area_square_degrees = gdf.geometry.area.values[0]\n"
          ]
        },
        {
          "output_type": "stream",
          "name": "stdout",
          "text": [
            "Empty DataFrame\n",
            "Columns: [Exceeding allowed transaction limit.]\n",
            "Index: []\n"
          ]
        },
        {
          "output_type": "error",
          "ename": "KeyError",
          "evalue": "ignored",
          "traceback": [
            "\u001b[0;31m---------------------------------------------------------------------------\u001b[0m",
            "\u001b[0;31mKeyError\u001b[0m                                  Traceback (most recent call last)",
            "\u001b[0;32m<ipython-input-53-770df832fa91>\u001b[0m in \u001b[0;36m<cell line: 2>\u001b[0;34m()\u001b[0m\n\u001b[1;32m     15\u001b[0m \u001b[0;34m\u001b[0m\u001b[0m\n\u001b[1;32m     16\u001b[0m     \u001b[0;32mif\u001b[0m \u001b[0mfire_data\u001b[0m \u001b[0;32mis\u001b[0m \u001b[0;32mnot\u001b[0m \u001b[0;32mNone\u001b[0m\u001b[0;34m:\u001b[0m\u001b[0;34m\u001b[0m\u001b[0;34m\u001b[0m\u001b[0m\n\u001b[0;32m---> 17\u001b[0;31m         \u001b[0mprocessed_data\u001b[0m \u001b[0;34m=\u001b[0m \u001b[0mpreprocess_data\u001b[0m\u001b[0;34m(\u001b[0m\u001b[0mfire_data\u001b[0m\u001b[0;34m)\u001b[0m\u001b[0;34m\u001b[0m\u001b[0;34m\u001b[0m\u001b[0m\n\u001b[0m\u001b[1;32m     18\u001b[0m \u001b[0;34m\u001b[0m\u001b[0m\n\u001b[1;32m     19\u001b[0m     \u001b[0;31m#     # if processed_data['frp'][0] > 0.8:\u001b[0m\u001b[0;34m\u001b[0m\u001b[0;34m\u001b[0m\u001b[0m\n",
            "\u001b[0;32m<ipython-input-51-c1bf87750b20>\u001b[0m in \u001b[0;36mpreprocess_data\u001b[0;34m(data)\u001b[0m\n\u001b[1;32m      3\u001b[0m     \u001b[0;31m# relevant_columns = ['latitude', 'longitude', 'confidence', 'bright_ti4', 'acq_date']\u001b[0m\u001b[0;34m\u001b[0m\u001b[0;34m\u001b[0m\u001b[0m\n\u001b[1;32m      4\u001b[0m     \u001b[0mrelevant_columns\u001b[0m \u001b[0;34m=\u001b[0m \u001b[0;34m[\u001b[0m\u001b[0;34m'latitude'\u001b[0m\u001b[0;34m,\u001b[0m \u001b[0;34m'longitude'\u001b[0m\u001b[0;34m,\u001b[0m \u001b[0;34m'bright_ti4'\u001b[0m\u001b[0;34m,\u001b[0m\u001b[0;34m'frp'\u001b[0m\u001b[0;34m,\u001b[0m \u001b[0;34m'acq_date'\u001b[0m\u001b[0;34m]\u001b[0m\u001b[0;34m\u001b[0m\u001b[0;34m\u001b[0m\u001b[0m\n\u001b[0;32m----> 5\u001b[0;31m     \u001b[0mdata\u001b[0m \u001b[0;34m=\u001b[0m \u001b[0mdata\u001b[0m\u001b[0;34m[\u001b[0m\u001b[0mrelevant_columns\u001b[0m\u001b[0;34m]\u001b[0m\u001b[0;34m\u001b[0m\u001b[0;34m\u001b[0m\u001b[0m\n\u001b[0m\u001b[1;32m      6\u001b[0m     \u001b[0mdata\u001b[0m\u001b[0;34m[\u001b[0m\u001b[0;34m'acq_date'\u001b[0m\u001b[0;34m]\u001b[0m \u001b[0;34m=\u001b[0m \u001b[0mpd\u001b[0m\u001b[0;34m.\u001b[0m\u001b[0mto_datetime\u001b[0m\u001b[0;34m(\u001b[0m\u001b[0mdata\u001b[0m\u001b[0;34m[\u001b[0m\u001b[0;34m'acq_date'\u001b[0m\u001b[0;34m]\u001b[0m\u001b[0;34m)\u001b[0m\u001b[0;34m\u001b[0m\u001b[0;34m\u001b[0m\u001b[0m\n\u001b[1;32m      7\u001b[0m     \u001b[0mdata\u001b[0m\u001b[0;34m[\u001b[0m\u001b[0;34m'is_fire'\u001b[0m\u001b[0;34m]\u001b[0m \u001b[0;34m=\u001b[0m \u001b[0;36m1\u001b[0m  \u001b[0;31m# Simulated: All data points are treated as fire incidents\u001b[0m\u001b[0;34m\u001b[0m\u001b[0;34m\u001b[0m\u001b[0m\n",
            "\u001b[0;32m/usr/local/lib/python3.10/dist-packages/pandas/core/frame.py\u001b[0m in \u001b[0;36m__getitem__\u001b[0;34m(self, key)\u001b[0m\n\u001b[1;32m   3811\u001b[0m             \u001b[0;32mif\u001b[0m \u001b[0mis_iterator\u001b[0m\u001b[0;34m(\u001b[0m\u001b[0mkey\u001b[0m\u001b[0;34m)\u001b[0m\u001b[0;34m:\u001b[0m\u001b[0;34m\u001b[0m\u001b[0;34m\u001b[0m\u001b[0m\n\u001b[1;32m   3812\u001b[0m                 \u001b[0mkey\u001b[0m \u001b[0;34m=\u001b[0m \u001b[0mlist\u001b[0m\u001b[0;34m(\u001b[0m\u001b[0mkey\u001b[0m\u001b[0;34m)\u001b[0m\u001b[0;34m\u001b[0m\u001b[0;34m\u001b[0m\u001b[0m\n\u001b[0;32m-> 3813\u001b[0;31m             \u001b[0mindexer\u001b[0m \u001b[0;34m=\u001b[0m \u001b[0mself\u001b[0m\u001b[0;34m.\u001b[0m\u001b[0mcolumns\u001b[0m\u001b[0;34m.\u001b[0m\u001b[0m_get_indexer_strict\u001b[0m\u001b[0;34m(\u001b[0m\u001b[0mkey\u001b[0m\u001b[0;34m,\u001b[0m \u001b[0;34m\"columns\"\u001b[0m\u001b[0;34m)\u001b[0m\u001b[0;34m[\u001b[0m\u001b[0;36m1\u001b[0m\u001b[0;34m]\u001b[0m\u001b[0;34m\u001b[0m\u001b[0;34m\u001b[0m\u001b[0m\n\u001b[0m\u001b[1;32m   3814\u001b[0m \u001b[0;34m\u001b[0m\u001b[0m\n\u001b[1;32m   3815\u001b[0m         \u001b[0;31m# take() does not accept boolean indexers\u001b[0m\u001b[0;34m\u001b[0m\u001b[0;34m\u001b[0m\u001b[0m\n",
            "\u001b[0;32m/usr/local/lib/python3.10/dist-packages/pandas/core/indexes/base.py\u001b[0m in \u001b[0;36m_get_indexer_strict\u001b[0;34m(self, key, axis_name)\u001b[0m\n\u001b[1;32m   6068\u001b[0m             \u001b[0mkeyarr\u001b[0m\u001b[0;34m,\u001b[0m \u001b[0mindexer\u001b[0m\u001b[0;34m,\u001b[0m \u001b[0mnew_indexer\u001b[0m \u001b[0;34m=\u001b[0m \u001b[0mself\u001b[0m\u001b[0;34m.\u001b[0m\u001b[0m_reindex_non_unique\u001b[0m\u001b[0;34m(\u001b[0m\u001b[0mkeyarr\u001b[0m\u001b[0;34m)\u001b[0m\u001b[0;34m\u001b[0m\u001b[0;34m\u001b[0m\u001b[0m\n\u001b[1;32m   6069\u001b[0m \u001b[0;34m\u001b[0m\u001b[0m\n\u001b[0;32m-> 6070\u001b[0;31m         \u001b[0mself\u001b[0m\u001b[0;34m.\u001b[0m\u001b[0m_raise_if_missing\u001b[0m\u001b[0;34m(\u001b[0m\u001b[0mkeyarr\u001b[0m\u001b[0;34m,\u001b[0m \u001b[0mindexer\u001b[0m\u001b[0;34m,\u001b[0m \u001b[0maxis_name\u001b[0m\u001b[0;34m)\u001b[0m\u001b[0;34m\u001b[0m\u001b[0;34m\u001b[0m\u001b[0m\n\u001b[0m\u001b[1;32m   6071\u001b[0m \u001b[0;34m\u001b[0m\u001b[0m\n\u001b[1;32m   6072\u001b[0m         \u001b[0mkeyarr\u001b[0m \u001b[0;34m=\u001b[0m \u001b[0mself\u001b[0m\u001b[0;34m.\u001b[0m\u001b[0mtake\u001b[0m\u001b[0;34m(\u001b[0m\u001b[0mindexer\u001b[0m\u001b[0;34m)\u001b[0m\u001b[0;34m\u001b[0m\u001b[0;34m\u001b[0m\u001b[0m\n",
            "\u001b[0;32m/usr/local/lib/python3.10/dist-packages/pandas/core/indexes/base.py\u001b[0m in \u001b[0;36m_raise_if_missing\u001b[0;34m(self, key, indexer, axis_name)\u001b[0m\n\u001b[1;32m   6128\u001b[0m                 \u001b[0;32mif\u001b[0m \u001b[0muse_interval_msg\u001b[0m\u001b[0;34m:\u001b[0m\u001b[0;34m\u001b[0m\u001b[0;34m\u001b[0m\u001b[0m\n\u001b[1;32m   6129\u001b[0m                     \u001b[0mkey\u001b[0m \u001b[0;34m=\u001b[0m \u001b[0mlist\u001b[0m\u001b[0;34m(\u001b[0m\u001b[0mkey\u001b[0m\u001b[0;34m)\u001b[0m\u001b[0;34m\u001b[0m\u001b[0;34m\u001b[0m\u001b[0m\n\u001b[0;32m-> 6130\u001b[0;31m                 \u001b[0;32mraise\u001b[0m \u001b[0mKeyError\u001b[0m\u001b[0;34m(\u001b[0m\u001b[0;34mf\"None of [{key}] are in the [{axis_name}]\"\u001b[0m\u001b[0;34m)\u001b[0m\u001b[0;34m\u001b[0m\u001b[0;34m\u001b[0m\u001b[0m\n\u001b[0m\u001b[1;32m   6131\u001b[0m \u001b[0;34m\u001b[0m\u001b[0m\n\u001b[1;32m   6132\u001b[0m             \u001b[0mnot_found\u001b[0m \u001b[0;34m=\u001b[0m \u001b[0mlist\u001b[0m\u001b[0;34m(\u001b[0m\u001b[0mensure_index\u001b[0m\u001b[0;34m(\u001b[0m\u001b[0mkey\u001b[0m\u001b[0;34m)\u001b[0m\u001b[0;34m[\u001b[0m\u001b[0mmissing_mask\u001b[0m\u001b[0;34m.\u001b[0m\u001b[0mnonzero\u001b[0m\u001b[0;34m(\u001b[0m\u001b[0;34m)\u001b[0m\u001b[0;34m[\u001b[0m\u001b[0;36m0\u001b[0m\u001b[0;34m]\u001b[0m\u001b[0;34m]\u001b[0m\u001b[0;34m.\u001b[0m\u001b[0munique\u001b[0m\u001b[0;34m(\u001b[0m\u001b[0;34m)\u001b[0m\u001b[0;34m)\u001b[0m\u001b[0;34m\u001b[0m\u001b[0;34m\u001b[0m\u001b[0m\n",
            "\u001b[0;31mKeyError\u001b[0m: \"None of [Index(['latitude', 'longitude', 'bright_ti4', 'frp', 'acq_date'], dtype='object')] are in the [columns]\""
          ]
        }
      ]
    }
  ]
}